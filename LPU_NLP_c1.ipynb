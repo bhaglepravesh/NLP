{
 "cells": [
  {
   "cell_type": "markdown",
   "metadata": {
    "id": "QazHIkrd3zOD"
   },
   "source": [
    "### Regular expressions:\n",
    "\n",
    "- Pattern matching\n",
    "- re module"
   ]
  },
  {
   "cell_type": "code",
   "execution_count": null,
   "metadata": {
    "id": "xywI15wWyARe"
   },
   "outputs": [],
   "source": [
    "import re"
   ]
  },
  {
   "cell_type": "markdown",
   "metadata": {
    "id": "cyKkGlZE3-fH"
   },
   "source": [
    "##### Basic Patterns:\n",
    "\n",
    "- a,b,c,A,B,C,0,1,2 : Ordinary charachters, they match with only themselves\n",
    "- '.' : matches with any character\n",
    "- '^' : start of string\n",
    "- '$' : end of string\n",
    "\n",
    "##### Predefined sets:\n",
    "\n",
    "- \\w : word characters : [a-zA-Z0-9_]\n",
    "- \\s : space characters : [' '\\t\\n\\r]\n",
    "- \\d : digit characters : [0-9]\n",
    "\n",
    "##### Repition characters:\n",
    "\n",
    "- '+' : 1 or more (greedy)\n",
    "- '*' : 0 or more (greedy)\n",
    "- '?' : 0 or 1 (non-greedy)\n",
    "- {n} : exactly n occurances\n",
    "- {l,m} : exactly l to m occurances\n",
    "\n",
    "##### Custom sets:\n",
    "\n",
    "- [abc] : matches with a or b or c\n",
    "- You can use predefined sets inside custom sets\n",
    "- [\\w.-] : matches with all \\w characters and . and -\n",
    "- Inside the [], '.' means '.'\n",
    "- You can write ranges using '-'\n",
    "- [a-zA-Z0-9_] == \\w \n",
    "- If you want to include '-', put it at the end\n",
    "- [a-z-] : matches with smallcase alphabets and '-'\n",
    "- '^' at the beginning inverts the custom set:\n",
    "- [^abc] : matches with every character except a,b,c\n",
    "\n",
    "##### Grouping:\n",
    "\n",
    "- () are used to define groups\n",
    "- Groups are used to divide the matches "
   ]
  },
  {
   "cell_type": "code",
   "execution_count": null,
   "metadata": {
    "id": "IyO0hEJb37w8"
   },
   "outputs": [],
   "source": [
    "# returns the first match only\n",
    "out = re.search('w\\w+', 'Hello world')"
   ]
  },
  {
   "cell_type": "code",
   "execution_count": null,
   "metadata": {
    "colab": {
     "base_uri": "https://localhost:8080/"
    },
    "id": "exJhm6-97Z00",
    "outputId": "01c9b886-2b6e-490d-eac6-5ed793b07ca3"
   },
   "outputs": [
    {
     "data": {
      "text/plain": [
       "(6, 11)"
      ]
     },
     "execution_count": 3,
     "metadata": {},
     "output_type": "execute_result"
    }
   ],
   "source": [
    "out.span()"
   ]
  },
  {
   "cell_type": "code",
   "execution_count": null,
   "metadata": {
    "colab": {
     "base_uri": "https://localhost:8080/",
     "height": 36
    },
    "id": "QzNamYyy8Hxy",
    "outputId": "ba26e85a-049f-49e0-9371-95f2e18ce1c7"
   },
   "outputs": [
    {
     "data": {
      "application/vnd.google.colaboratory.intrinsic+json": {
       "type": "string"
      },
      "text/plain": [
       "'world'"
      ]
     },
     "execution_count": 4,
     "metadata": {},
     "output_type": "execute_result"
    }
   ],
   "source": [
    "out.group()"
   ]
  },
  {
   "cell_type": "code",
   "execution_count": null,
   "metadata": {
    "colab": {
     "base_uri": "https://localhost:8080/",
     "height": 36
    },
    "id": "RqXtBANb8LXA",
    "outputId": "202699f4-746d-4d68-b64c-b41d98fef87d"
   },
   "outputs": [
    {
     "data": {
      "application/vnd.google.colaboratory.intrinsic+json": {
       "type": "string"
      },
      "text/plain": [
       "'Hello World'"
      ]
     },
     "execution_count": 5,
     "metadata": {},
     "output_type": "execute_result"
    }
   ],
   "source": [
    "out = re.search('H\\w+\\s?\\w+', 'Hello World')\n",
    "out.group()"
   ]
  },
  {
   "cell_type": "code",
   "execution_count": null,
   "metadata": {
    "colab": {
     "base_uri": "https://localhost:8080/",
     "height": 36
    },
    "id": "aWt_0kSW8iOY",
    "outputId": "2cf556fb-5cce-48b6-d227-543b531455e7"
   },
   "outputs": [
    {
     "data": {
      "application/vnd.google.colaboratory.intrinsic+json": {
       "type": "string"
      },
      "text/plain": [
       "'Hello ?.world-'"
      ]
     },
     "execution_count": 6,
     "metadata": {},
     "output_type": "execute_result"
    }
   ],
   "source": [
    "out = re.search('[a-zA-Z\\s.?-]+', 'Hello ?.world-')\n",
    "out.group()"
   ]
  },
  {
   "cell_type": "code",
   "execution_count": null,
   "metadata": {
    "id": "f75JQisQ-KWm"
   },
   "outputs": [],
   "source": [
    "text = '''India is the largest democratic country. It is a big country divided into 29 states and 7 union territories. These states and union territories have been created so that the government can run the country more easily. India also has many different kinds of physical features in different parts of the country that are spread over its states and union territories. India is a very diverse country as well, which means that the people around the country are different in many ways. Even though India is such a diverse place, it is united as one country.'''"
   ]
  },
  {
   "cell_type": "code",
   "execution_count": null,
   "metadata": {
    "id": "NZmO8wRV9M-R"
   },
   "outputs": [],
   "source": [
    "out = re.findall('\\w+', text)"
   ]
  },
  {
   "cell_type": "markdown",
   "metadata": {
    "id": "94I74itG-gfn"
   },
   "source": [
    "Q. Write a regular expression to extract any email id from a given text. Separate out the username from the domain name"
   ]
  },
  {
   "cell_type": "code",
   "execution_count": null,
   "metadata": {
    "colab": {
     "base_uri": "https://localhost:8080/"
    },
    "id": "tr-TgE_U-Y_9",
    "outputId": "94d16059-33b5-4d7e-fe9f-1bc213fddda6"
   },
   "outputs": [
    {
     "data": {
      "text/plain": [
       "[('abc.123', 'lpu.com'), ('xyz_21', 'yahoo.co.in'), ('pqr-22', 'gmail.com')]"
      ]
     },
     "execution_count": 9,
     "metadata": {},
     "output_type": "execute_result"
    }
   ],
   "source": [
    "re.findall('([\\w.-]+)@([a-z.]+)', 'Email ids are as follows: abc.123@lpu.com, xyz_21@yahoo.co.in, pqr-22@gmail.com')"
   ]
  },
  {
   "cell_type": "code",
   "execution_count": null,
   "metadata": {
    "id": "NmKZ_B1HAOmS"
   },
   "outputs": [],
   "source": [
    "out = re.search('([\\w.-]+)@([a-z.]+)', 'Email ids are as follows: abc.123@lpu.com,')"
   ]
  },
  {
   "cell_type": "code",
   "execution_count": null,
   "metadata": {
    "colab": {
     "base_uri": "https://localhost:8080/",
     "height": 36
    },
    "id": "fq8dzpwuBiA4",
    "outputId": "b7d20282-3cad-4f1d-af3b-87544aebf15e"
   },
   "outputs": [
    {
     "data": {
      "application/vnd.google.colaboratory.intrinsic+json": {
       "type": "string"
      },
      "text/plain": [
       "'abc.123@lpu.com'"
      ]
     },
     "execution_count": 11,
     "metadata": {},
     "output_type": "execute_result"
    }
   ],
   "source": [
    "out.group(0)"
   ]
  },
  {
   "cell_type": "code",
   "execution_count": null,
   "metadata": {
    "colab": {
     "base_uri": "https://localhost:8080/",
     "height": 36
    },
    "id": "Ns7eCq-kBlms",
    "outputId": "4c1e3269-8d32-4f27-8ac4-b7f57d83184d"
   },
   "outputs": [
    {
     "data": {
      "application/vnd.google.colaboratory.intrinsic+json": {
       "type": "string"
      },
      "text/plain": [
       "'abc.123'"
      ]
     },
     "execution_count": 12,
     "metadata": {},
     "output_type": "execute_result"
    }
   ],
   "source": [
    "out.group(1)"
   ]
  },
  {
   "cell_type": "code",
   "execution_count": null,
   "metadata": {
    "colab": {
     "base_uri": "https://localhost:8080/",
     "height": 36
    },
    "id": "oKtuWRrSBoVX",
    "outputId": "631cbf2d-d8d9-4e9a-9677-36fb3226be8f"
   },
   "outputs": [
    {
     "data": {
      "application/vnd.google.colaboratory.intrinsic+json": {
       "type": "string"
      },
      "text/plain": [
       "'lpu.com'"
      ]
     },
     "execution_count": 13,
     "metadata": {},
     "output_type": "execute_result"
    }
   ],
   "source": [
    "out.group(2)"
   ]
  },
  {
   "cell_type": "code",
   "execution_count": null,
   "metadata": {
    "colab": {
     "base_uri": "https://localhost:8080/"
    },
    "id": "gAXXnG0fBqPC",
    "outputId": "483f05bc-e2b4-4ac2-d2ac-0cf5c29dc7e6"
   },
   "outputs": [
    {
     "data": {
      "text/plain": [
       "['baaaa']"
      ]
     },
     "execution_count": 14,
     "metadata": {},
     "output_type": "execute_result"
    }
   ],
   "source": [
    "# from version 3.11:\n",
    "re.findall('b[\\w.-]{2,4}', 'baaaaaa')"
   ]
  },
  {
   "cell_type": "code",
   "execution_count": null,
   "metadata": {
    "colab": {
     "base_uri": "https://localhost:8080/",
     "height": 36
    },
    "id": "Ul1vu8MkD3eE",
    "outputId": "b8f5bd54-8755-4f3e-ac89-4364c59ded1f"
   },
   "outputs": [
    {
     "data": {
      "application/vnd.google.colaboratory.intrinsic+json": {
       "type": "string"
      },
      "text/plain": [
       "'Email ids are as follows: <<EMAIL>>, <<EMAIL>>, <<EMAIL>>'"
      ]
     },
     "execution_count": 15,
     "metadata": {},
     "output_type": "execute_result"
    }
   ],
   "source": [
    "re.sub('([\\w.-]+)@([a-z.]+)', '<<EMAIL>>',  'Email ids are as follows: abc.123@lpu.com, xyz_21@yahoo.co.in, pqr-22@gmail.com')"
   ]
  },
  {
   "cell_type": "markdown",
   "metadata": {
    "id": "FGswORXlFIjZ"
   },
   "source": [
    "### Tokenization"
   ]
  },
  {
   "cell_type": "code",
   "execution_count": 6,
   "metadata": {
    "colab": {
     "base_uri": "https://localhost:8080/"
    },
    "id": "JmLf7vO_EU0L",
    "outputId": "96009740-d806-44d5-d555-1e9fc13acb68"
   },
   "outputs": [
    {
     "name": "stderr",
     "output_type": "stream",
     "text": [
      "[nltk_data] Error loading punkt: <urlopen error [WinError 10060] A\n",
      "[nltk_data]     connection attempt failed because the connected party\n",
      "[nltk_data]     did not properly respond after a period of time, or\n",
      "[nltk_data]     established connection failed because connected host\n",
      "[nltk_data]     has failed to respond>\n"
     ]
    },
    {
     "data": {
      "text/plain": [
       "False"
      ]
     },
     "execution_count": 6,
     "metadata": {},
     "output_type": "execute_result"
    }
   ],
   "source": [
    "import nltk\n",
    "from nltk.tokenize import word_tokenize, sent_tokenize\n",
    "nltk.download('punkt')"
   ]
  },
  {
   "cell_type": "code",
   "execution_count": null,
   "metadata": {
    "colab": {
     "base_uri": "https://localhost:8080/",
     "height": 89
    },
    "id": "yKcPXSxpFPjp",
    "outputId": "94e59f6e-51c4-42d2-e9fe-39f77a472222"
   },
   "outputs": [
    {
     "data": {
      "application/vnd.google.colaboratory.intrinsic+json": {
       "type": "string"
      },
      "text/plain": [
       "'India is the largest democratic country. It is a big country divided into 29 states and 7 union territories. These states and union territories have been created so that the government can run the country more easily. India also has many different kinds of physical features in different parts of the country that are spread over its states and union territories. India is a very diverse country as well, which means that the people around the country are different in many ways. Even though India is such a diverse place, it is united as one country.'"
      ]
     },
     "execution_count": 17,
     "metadata": {},
     "output_type": "execute_result"
    }
   ],
   "source": [
    "text"
   ]
  },
  {
   "cell_type": "code",
   "execution_count": null,
   "metadata": {
    "id": "6lc-tLmNFRcf"
   },
   "outputs": [],
   "source": [
    "words = word_tokenize(text)"
   ]
  },
  {
   "cell_type": "code",
   "execution_count": null,
   "metadata": {
    "id": "KhPYgtLkFdNt"
   },
   "outputs": [],
   "source": [
    "def word_tokenize_custom(text):\n",
    "  return re.findall('\\w+', text)"
   ]
  },
  {
   "cell_type": "code",
   "execution_count": null,
   "metadata": {
    "id": "0tNTJZrEFVuk"
   },
   "outputs": [],
   "source": [
    "words_ = word_tokenize_custom(text)"
   ]
  },
  {
   "cell_type": "code",
   "execution_count": null,
   "metadata": {
    "id": "DWTW-49mFZi8"
   },
   "outputs": [],
   "source": [
    "sents = sent_tokenize(text)"
   ]
  },
  {
   "cell_type": "code",
   "execution_count": null,
   "metadata": {
    "colab": {
     "base_uri": "https://localhost:8080/"
    },
    "id": "5TkeshyxFnkP",
    "outputId": "7067155b-01f5-4238-9a64-a08c06ce2131"
   },
   "outputs": [
    {
     "data": {
      "text/plain": [
       "['India is the largest democratic country.',\n",
       " 'It is a big country divided into 29 states and 7 union territories.',\n",
       " 'These states and union territories have been created so that the government can run the country more easily.',\n",
       " 'India also has many different kinds of physical features in different parts of the country that are spread over its states and union territories.',\n",
       " 'India is a very diverse country as well, which means that the people around the country are different in many ways.',\n",
       " 'Even though India is such a diverse place, it is united as one country.']"
      ]
     },
     "execution_count": 22,
     "metadata": {},
     "output_type": "execute_result"
    }
   ],
   "source": [
    "sents"
   ]
  },
  {
   "cell_type": "code",
   "execution_count": null,
   "metadata": {
    "id": "sgeJHlFcFtFz"
   },
   "outputs": [],
   "source": [
    "def sent_tokenize_custom(text):\n",
    "  return re.findall('[^.]+', text)"
   ]
  },
  {
   "cell_type": "code",
   "execution_count": null,
   "metadata": {
    "colab": {
     "base_uri": "https://localhost:8080/"
    },
    "id": "tgQCBHxpF7mo",
    "outputId": "ebf51417-98b7-4fd0-9274-81d8f4e33361"
   },
   "outputs": [
    {
     "data": {
      "text/plain": [
       "['India is the largest democratic country',\n",
       " ' It is a big country divided into 29 states and 7 union territories',\n",
       " ' These states and union territories have been created so that the government can run the country more easily',\n",
       " ' India also has many different kinds of physical features in different parts of the country that are spread over its states and union territories',\n",
       " ' India is a very diverse country as well, which means that the people around the country are different in many ways',\n",
       " ' Even though India is such a diverse place, it is united as one country']"
      ]
     },
     "execution_count": 24,
     "metadata": {},
     "output_type": "execute_result"
    }
   ],
   "source": [
    "sent_tokenize_custom(text)"
   ]
  },
  {
   "cell_type": "markdown",
   "metadata": {
    "id": "vRhxZYZRG0E0"
   },
   "source": [
    "### stopwords"
   ]
  },
  {
   "cell_type": "code",
   "execution_count": 2,
   "metadata": {
    "colab": {
     "base_uri": "https://localhost:8080/"
    },
    "id": "0leD_awoF9cP",
    "outputId": "f7c2a68c-4570-4840-aaaf-d9ca75e31206"
   },
   "outputs": [
    {
     "name": "stderr",
     "output_type": "stream",
     "text": [
      "[nltk_data] Error loading stopwords: <urlopen error [WinError 10065] A\n",
      "[nltk_data]     socket operation was attempted to an unreachable host>\n"
     ]
    }
   ],
   "source": [
    "from nltk.corpus import stopwords\n",
    "nltk.download('stopwords')\n",
    "sw = stopwords.words('english')"
   ]
  },
  {
   "cell_type": "code",
   "execution_count": 4,
   "metadata": {},
   "outputs": [],
   "source": [
    "sw.append(\"also\")"
   ]
  },
  {
   "cell_type": "code",
   "execution_count": 5,
   "metadata": {},
   "outputs": [
    {
     "data": {
      "text/plain": [
       "['i',\n",
       " 'me',\n",
       " 'my',\n",
       " 'myself',\n",
       " 'we',\n",
       " 'our',\n",
       " 'ours',\n",
       " 'ourselves',\n",
       " 'you',\n",
       " \"you're\",\n",
       " \"you've\",\n",
       " \"you'll\",\n",
       " \"you'd\",\n",
       " 'your',\n",
       " 'yours',\n",
       " 'yourself',\n",
       " 'yourselves',\n",
       " 'he',\n",
       " 'him',\n",
       " 'his',\n",
       " 'himself',\n",
       " 'she',\n",
       " \"she's\",\n",
       " 'her',\n",
       " 'hers',\n",
       " 'herself',\n",
       " 'it',\n",
       " \"it's\",\n",
       " 'its',\n",
       " 'itself',\n",
       " 'they',\n",
       " 'them',\n",
       " 'their',\n",
       " 'theirs',\n",
       " 'themselves',\n",
       " 'what',\n",
       " 'which',\n",
       " 'who',\n",
       " 'whom',\n",
       " 'this',\n",
       " 'that',\n",
       " \"that'll\",\n",
       " 'these',\n",
       " 'those',\n",
       " 'am',\n",
       " 'is',\n",
       " 'are',\n",
       " 'was',\n",
       " 'were',\n",
       " 'be',\n",
       " 'been',\n",
       " 'being',\n",
       " 'have',\n",
       " 'has',\n",
       " 'had',\n",
       " 'having',\n",
       " 'do',\n",
       " 'does',\n",
       " 'did',\n",
       " 'doing',\n",
       " 'a',\n",
       " 'an',\n",
       " 'the',\n",
       " 'and',\n",
       " 'but',\n",
       " 'if',\n",
       " 'or',\n",
       " 'because',\n",
       " 'as',\n",
       " 'until',\n",
       " 'while',\n",
       " 'of',\n",
       " 'at',\n",
       " 'by',\n",
       " 'for',\n",
       " 'with',\n",
       " 'about',\n",
       " 'against',\n",
       " 'between',\n",
       " 'into',\n",
       " 'through',\n",
       " 'during',\n",
       " 'before',\n",
       " 'after',\n",
       " 'above',\n",
       " 'below',\n",
       " 'to',\n",
       " 'from',\n",
       " 'up',\n",
       " 'down',\n",
       " 'in',\n",
       " 'out',\n",
       " 'on',\n",
       " 'off',\n",
       " 'over',\n",
       " 'under',\n",
       " 'again',\n",
       " 'further',\n",
       " 'then',\n",
       " 'once',\n",
       " 'here',\n",
       " 'there',\n",
       " 'when',\n",
       " 'where',\n",
       " 'why',\n",
       " 'how',\n",
       " 'all',\n",
       " 'any',\n",
       " 'both',\n",
       " 'each',\n",
       " 'few',\n",
       " 'more',\n",
       " 'most',\n",
       " 'other',\n",
       " 'some',\n",
       " 'such',\n",
       " 'no',\n",
       " 'nor',\n",
       " 'not',\n",
       " 'only',\n",
       " 'own',\n",
       " 'same',\n",
       " 'so',\n",
       " 'than',\n",
       " 'too',\n",
       " 'very',\n",
       " 's',\n",
       " 't',\n",
       " 'can',\n",
       " 'will',\n",
       " 'just',\n",
       " 'don',\n",
       " \"don't\",\n",
       " 'should',\n",
       " \"should've\",\n",
       " 'now',\n",
       " 'd',\n",
       " 'll',\n",
       " 'm',\n",
       " 'o',\n",
       " 're',\n",
       " 've',\n",
       " 'y',\n",
       " 'ain',\n",
       " 'aren',\n",
       " \"aren't\",\n",
       " 'couldn',\n",
       " \"couldn't\",\n",
       " 'didn',\n",
       " \"didn't\",\n",
       " 'doesn',\n",
       " \"doesn't\",\n",
       " 'hadn',\n",
       " \"hadn't\",\n",
       " 'hasn',\n",
       " \"hasn't\",\n",
       " 'haven',\n",
       " \"haven't\",\n",
       " 'isn',\n",
       " \"isn't\",\n",
       " 'ma',\n",
       " 'mightn',\n",
       " \"mightn't\",\n",
       " 'mustn',\n",
       " \"mustn't\",\n",
       " 'needn',\n",
       " \"needn't\",\n",
       " 'shan',\n",
       " \"shan't\",\n",
       " 'shouldn',\n",
       " \"shouldn't\",\n",
       " 'wasn',\n",
       " \"wasn't\",\n",
       " 'weren',\n",
       " \"weren't\",\n",
       " 'won',\n",
       " \"won't\",\n",
       " 'wouldn',\n",
       " \"wouldn't\",\n",
       " 'also']"
      ]
     },
     "execution_count": 5,
     "metadata": {},
     "output_type": "execute_result"
    }
   ],
   "source": [
    "sw"
   ]
  },
  {
   "cell_type": "code",
   "execution_count": null,
   "metadata": {
    "id": "bkh682NHG8su"
   },
   "outputs": [],
   "source": [
    "words_  = [word.lower() for word in words_ if word.lower() not in sw]"
   ]
  },
  {
   "cell_type": "markdown",
   "metadata": {
    "id": "z4sG-zT1JHEl"
   },
   "source": [
    "### Stemming / lemmatization:"
   ]
  },
  {
   "cell_type": "code",
   "execution_count": null,
   "metadata": {
    "colab": {
     "base_uri": "https://localhost:8080/"
    },
    "id": "Ar0uQB9hHHVe",
    "outputId": "93828410-32ea-488b-c3c4-1fca273dffa5"
   },
   "outputs": [
    {
     "name": "stderr",
     "output_type": "stream",
     "text": [
      "[nltk_data] Downloading package wordnet to /root/nltk_data...\n",
      "[nltk_data] Downloading package omw-1.4 to /root/nltk_data...\n"
     ]
    },
    {
     "data": {
      "text/plain": [
       "True"
      ]
     },
     "execution_count": 27,
     "metadata": {},
     "output_type": "execute_result"
    }
   ],
   "source": [
    "from nltk.stem import WordNetLemmatizer, snowball\n",
    "nltk.download('wordnet')\n",
    "nltk.download('omw-1.4')"
   ]
  },
  {
   "cell_type": "code",
   "execution_count": null,
   "metadata": {
    "id": "Y_ZFuPnqHIkG"
   },
   "outputs": [],
   "source": [
    "stemmer = snowball.SnowballStemmer('english')\n",
    "lemmatizer = WordNetLemmatizer()"
   ]
  },
  {
   "cell_type": "code",
   "execution_count": null,
   "metadata": {
    "colab": {
     "base_uri": "https://localhost:8080/"
    },
    "id": "wHT8daUqJf5g",
    "outputId": "0078fabd-66c5-4813-edb6-de5e0881af86"
   },
   "outputs": [
    {
     "name": "stdout",
     "output_type": "stream",
     "text": [
      "53\n",
      "CPU times: user 1.11 ms, sys: 21 µs, total: 1.13 ms\n",
      "Wall time: 1.1 ms\n"
     ]
    }
   ],
   "source": [
    "%%time\n",
    "words_stemmed = {w : stemmer.stem(w) for w in words_}\n",
    "print(len(words_))"
   ]
  },
  {
   "cell_type": "code",
   "execution_count": null,
   "metadata": {
    "colab": {
     "base_uri": "https://localhost:8080/"
    },
    "id": "gvjS0xZUJsko",
    "outputId": "ca0b2b64-1bb5-4768-b9dc-d0d661d6e580"
   },
   "outputs": [
    {
     "name": "stdout",
     "output_type": "stream",
     "text": [
      "53\n",
      "CPU times: user 2.29 s, sys: 75.5 ms, total: 2.36 s\n",
      "Wall time: 2.46 s\n"
     ]
    }
   ],
   "source": [
    "%%time\n",
    "words_lemma = {w : lemmatizer.lemmatize(w) for w in words_} \n",
    "print(len(words_))"
   ]
  },
  {
   "cell_type": "code",
   "execution_count": null,
   "metadata": {
    "colab": {
     "base_uri": "https://localhost:8080/"
    },
    "id": "QkKAIyJHJ6AI",
    "outputId": "4e21f7d0-f520-4b9b-a514-e88b2a45b48a"
   },
   "outputs": [
    {
     "data": {
      "text/plain": [
       "{'india': 'india',\n",
       " 'largest': 'largest',\n",
       " 'democratic': 'democrat',\n",
       " 'country': 'countri',\n",
       " 'big': 'big',\n",
       " 'divided': 'divid',\n",
       " '29': '29',\n",
       " 'states': 'state',\n",
       " '7': '7',\n",
       " 'union': 'union',\n",
       " 'territories': 'territori',\n",
       " 'created': 'creat',\n",
       " 'government': 'govern',\n",
       " 'run': 'run',\n",
       " 'easily': 'easili',\n",
       " 'also': 'also',\n",
       " 'many': 'mani',\n",
       " 'different': 'differ',\n",
       " 'kinds': 'kind',\n",
       " 'physical': 'physic',\n",
       " 'features': 'featur',\n",
       " 'parts': 'part',\n",
       " 'spread': 'spread',\n",
       " 'diverse': 'divers',\n",
       " 'well': 'well',\n",
       " 'means': 'mean',\n",
       " 'people': 'peopl',\n",
       " 'around': 'around',\n",
       " 'ways': 'way',\n",
       " 'even': 'even',\n",
       " 'though': 'though',\n",
       " 'place': 'place',\n",
       " 'united': 'unit',\n",
       " 'one': 'one'}"
      ]
     },
     "execution_count": 31,
     "metadata": {},
     "output_type": "execute_result"
    }
   ],
   "source": [
    "words_stemmed"
   ]
  },
  {
   "cell_type": "code",
   "execution_count": null,
   "metadata": {
    "colab": {
     "base_uri": "https://localhost:8080/"
    },
    "id": "PjXBJmYAKkGs",
    "outputId": "c4b12d4d-0ec2-439c-c677-2adc4c16d2b0"
   },
   "outputs": [
    {
     "data": {
      "text/plain": [
       "{'india': 'india',\n",
       " 'largest': 'largest',\n",
       " 'democratic': 'democratic',\n",
       " 'country': 'country',\n",
       " 'big': 'big',\n",
       " 'divided': 'divided',\n",
       " '29': '29',\n",
       " 'states': 'state',\n",
       " '7': '7',\n",
       " 'union': 'union',\n",
       " 'territories': 'territory',\n",
       " 'created': 'created',\n",
       " 'government': 'government',\n",
       " 'run': 'run',\n",
       " 'easily': 'easily',\n",
       " 'also': 'also',\n",
       " 'many': 'many',\n",
       " 'different': 'different',\n",
       " 'kinds': 'kind',\n",
       " 'physical': 'physical',\n",
       " 'features': 'feature',\n",
       " 'parts': 'part',\n",
       " 'spread': 'spread',\n",
       " 'diverse': 'diverse',\n",
       " 'well': 'well',\n",
       " 'means': 'mean',\n",
       " 'people': 'people',\n",
       " 'around': 'around',\n",
       " 'ways': 'way',\n",
       " 'even': 'even',\n",
       " 'though': 'though',\n",
       " 'place': 'place',\n",
       " 'united': 'united',\n",
       " 'one': 'one'}"
      ]
     },
     "execution_count": 32,
     "metadata": {},
     "output_type": "execute_result"
    }
   ],
   "source": [
    "words_lemma"
   ]
  },
  {
   "cell_type": "code",
   "execution_count": null,
   "metadata": {
    "id": "FnL1kNqhLFty"
   },
   "outputs": [],
   "source": []
  }
 ],
 "metadata": {
  "colab": {
   "provenance": []
  },
  "kernelspec": {
   "display_name": "Python 3 (ipykernel)",
   "language": "python",
   "name": "python3"
  },
  "language_info": {
   "codemirror_mode": {
    "name": "ipython",
    "version": 3
   },
   "file_extension": ".py",
   "mimetype": "text/x-python",
   "name": "python",
   "nbconvert_exporter": "python",
   "pygments_lexer": "ipython3",
   "version": "3.9.12"
  }
 },
 "nbformat": 4,
 "nbformat_minor": 1
}
