{
 "cells": [
  {
   "cell_type": "code",
   "execution_count": 1,
   "metadata": {
    "id": "aN7xtDbtNetx"
   },
   "outputs": [],
   "source": [
    "import re"
   ]
  },
  {
   "cell_type": "code",
   "execution_count": null,
   "metadata": {},
   "outputs": [],
   "source": [
    "re.search(\"\")"
   ]
  },
  {
   "cell_type": "code",
   "execution_count": 2,
   "metadata": {
    "id": "pp3i6SZCN1qK"
   },
   "outputs": [],
   "source": [
    "s = 'afadfgdb23sdg234fsdgdfg'\n",
    "out = re.search('\\d\\d\\d', s)"
   ]
  },
  {
   "cell_type": "code",
   "execution_count": 3,
   "metadata": {
    "colab": {
     "base_uri": "https://localhost:8080/",
     "height": 35
    },
    "id": "-9Kd0Tu-N95F",
    "outputId": "0a1cd463-0e01-4de3-80ca-50f91eadab18"
   },
   "outputs": [
    {
     "data": {
      "text/plain": [
       "'234'"
      ]
     },
     "execution_count": 3,
     "metadata": {},
     "output_type": "execute_result"
    }
   ],
   "source": [
    "out.group()"
   ]
  },
  {
   "cell_type": "code",
   "execution_count": 4,
   "metadata": {
    "colab": {
     "base_uri": "https://localhost:8080/"
    },
    "id": "DyE_elyRORxw",
    "outputId": "73aefe63-235a-4c8d-874c-9f474b6b5a3c"
   },
   "outputs": [
    {
     "data": {
      "text/plain": [
       "(13, 16)"
      ]
     },
     "execution_count": 4,
     "metadata": {},
     "output_type": "execute_result"
    }
   ],
   "source": [
    "index = out.span()\n",
    "index"
   ]
  },
  {
   "cell_type": "code",
   "execution_count": 5,
   "metadata": {
    "colab": {
     "base_uri": "https://localhost:8080/",
     "height": 35
    },
    "id": "bdqpx3mwOT45",
    "outputId": "bb4115c3-e9b4-4e9a-b4b8-69753162c208"
   },
   "outputs": [
    {
     "data": {
      "text/plain": [
       "'234'"
      ]
     },
     "execution_count": 5,
     "metadata": {},
     "output_type": "execute_result"
    }
   ],
   "source": [
    "s[index[0]: index[1]]"
   ]
  },
  {
   "cell_type": "code",
   "execution_count": 6,
   "metadata": {
    "id": "5eK1XabSOh6T"
   },
   "outputs": [],
   "source": [
    "s = 'shubham, aditya, pravesh, hari, akarsh'\n",
    "out = re.search('har.', s)"
   ]
  },
  {
   "cell_type": "code",
   "execution_count": 7,
   "metadata": {
    "colab": {
     "base_uri": "https://localhost:8080/"
    },
    "id": "71f0Fz0XPRop",
    "outputId": "44828937-7e1e-4bc4-fe7a-ccb066424c1a"
   },
   "outputs": [
    {
     "data": {
      "text/plain": [
       "(26, 30)"
      ]
     },
     "execution_count": 7,
     "metadata": {},
     "output_type": "execute_result"
    }
   ],
   "source": [
    "out.span()"
   ]
  },
  {
   "cell_type": "code",
   "execution_count": 8,
   "metadata": {
    "colab": {
     "base_uri": "https://localhost:8080/",
     "height": 35
    },
    "id": "1wq76hHAPTMw",
    "outputId": "78575b8a-18fa-4bac-dc1c-51f5f5750a02"
   },
   "outputs": [
    {
     "data": {
      "text/plain": [
       "'hari'"
      ]
     },
     "execution_count": 8,
     "metadata": {},
     "output_type": "execute_result"
    }
   ],
   "source": [
    "out.group()"
   ]
  },
  {
   "cell_type": "code",
   "execution_count": 9,
   "metadata": {
    "colab": {
     "base_uri": "https://localhost:8080/"
    },
    "id": "VlXtPYHCPVjS",
    "outputId": "7e021a12-bf93-46ab-d159-6c5bc281657e"
   },
   "outputs": [
    {
     "data": {
      "text/plain": [
       "<re.Match object; span=(0, 1), match='p'>"
      ]
     },
     "execution_count": 9,
     "metadata": {},
     "output_type": "execute_result"
    }
   ],
   "source": [
    "re.search('pi?', 'pg')"
   ]
  },
  {
   "cell_type": "code",
   "execution_count": null,
   "metadata": {
    "colab": {
     "base_uri": "https://localhost:8080/"
    },
    "id": "lnp9Uvf2Pmru",
    "outputId": "1d5a70cc-877b-4ed0-86dd-7d653b2d174d"
   },
   "outputs": [
    {
     "data": {
      "text/plain": [
       "<re.Match object; span=(0, 4), match='piii'>"
      ]
     },
     "execution_count": 32,
     "metadata": {},
     "output_type": "execute_result"
    }
   ],
   "source": [
    "re.search('pi*', 'piiig')"
   ]
  },
  {
   "cell_type": "code",
   "execution_count": 10,
   "metadata": {
    "colab": {
     "base_uri": "https://localhost:8080/"
    },
    "id": "4ocrmY9VQEbp",
    "outputId": "59393899-78e4-4221-c269-16b0cc387fa2"
   },
   "outputs": [
    {
     "data": {
      "text/plain": [
       "<re.Match object; span=(0, 4), match='piii'>"
      ]
     },
     "execution_count": 10,
     "metadata": {},
     "output_type": "execute_result"
    }
   ],
   "source": [
    "re.search('pi+', 'piiig')"
   ]
  },
  {
   "cell_type": "code",
   "execution_count": 11,
   "metadata": {
    "id": "o4fQgDI_QGXu"
   },
   "outputs": [],
   "source": [
    "re.search('pi+', 'pg')"
   ]
  },
  {
   "cell_type": "markdown",
   "metadata": {
    "id": "lJoBMpzfQLSO"
   },
   "source": [
    "Q. Write a regular expression to extract any emailid from given text"
   ]
  },
  {
   "cell_type": "code",
   "execution_count": null,
   "metadata": {
    "id": "sEO4IM_wQIJn"
   },
   "outputs": [],
   "source": [
    "out = re.search('([a-z0-9_.-]+)@([\\w-]+[.][a-z]+)', 'Email id is vashishtha_hari765@yahoo.com')"
   ]
  },
  {
   "cell_type": "code",
   "execution_count": null,
   "metadata": {
    "colab": {
     "base_uri": "https://localhost:8080/",
     "height": 35
    },
    "id": "WgdyTov1Zt6q",
    "outputId": "b5121a94-80a9-4e8b-8031-59c52e67b15e"
   },
   "outputs": [
    {
     "data": {
      "application/vnd.google.colaboratory.intrinsic+json": {
       "type": "string"
      },
      "text/plain": [
       "'vashishtha_hari765@yahoo.com'"
      ]
     },
     "execution_count": 68,
     "metadata": {},
     "output_type": "execute_result"
    }
   ],
   "source": [
    "out.group(0)"
   ]
  },
  {
   "cell_type": "code",
   "execution_count": null,
   "metadata": {
    "colab": {
     "base_uri": "https://localhost:8080/"
    },
    "id": "v5mMnLgoTU6p",
    "outputId": "adac079a-524f-4da3-f03a-d804f881be55"
   },
   "outputs": [
    {
     "data": {
      "text/plain": [
       "['vashishtha_hari765@yahoo.com',\n",
       " 'shubhamkumarjha02001@gmail.com',\n",
       " 'adityaraj123@gmail.com',\n",
       " 'pravesh786@gmail.com',\n",
       " 'vashishthahari765@gmail.com',\n",
       " 'yadavakarsh@gmail.com']"
      ]
     },
     "execution_count": 46,
     "metadata": {},
     "output_type": "execute_result"
    }
   ],
   "source": [
    "# findall: Return a list of all non-overlapping matches in the string.\n",
    "re.findall('[a-z0-9_.-]+@[\\w-]+[.][a-z]+', 'Email ids are vashishtha_hari765@yahoo.com, shubhamkumarjha02001@gmail.com, adityaraj123@gmail.com, pravesh786@gmail.com, vashishthahari765@gmail.com, yadavakarsh@gmail.com')"
   ]
  },
  {
   "cell_type": "code",
   "execution_count": null,
   "metadata": {
    "colab": {
     "base_uri": "https://localhost:8080/",
     "height": 35
    },
    "id": "hfOuJfyTWPN3",
    "outputId": "99fe2867-8215-4d20-b846-a7242762acc2"
   },
   "outputs": [
    {
     "data": {
      "application/vnd.google.colaboratory.intrinsic+json": {
       "type": "string"
      },
      "text/plain": [
       "'Email id is <EMAIL>'"
      ]
     },
     "execution_count": 48,
     "metadata": {},
     "output_type": "execute_result"
    }
   ],
   "source": [
    "re.sub('[a-z0-9_.-]+@[\\w-]+[.][a-z]+', '<EMAIL>', 'Email id is vashishtha_hari765@yahoo.com')"
   ]
  },
  {
   "cell_type": "markdown",
   "metadata": {
    "id": "vIvg-CmuXP_A"
   },
   "source": [
    "Write a regular expression to clean any given text by removing the following characters \n",
    "!@#$%&*(){};:\"<>?/|\n",
    "\n",
    "\n",
    "```\n",
    "input: \"{*%He;:llo}&*\n",
    "ouput: Hello\n",
    "```"
   ]
  },
  {
   "cell_type": "code",
   "execution_count": 12,
   "metadata": {
    "id": "AIf3h4N-WsiF"
   },
   "outputs": [],
   "source": [
    "def clean_string(s):\n",
    "    return re.sub('[!@#$%&*(){};:\"<>?/|]', '', s)"
   ]
  },
  {
   "cell_type": "code",
   "execution_count": 13,
   "metadata": {
    "colab": {
     "base_uri": "https://localhost:8080/",
     "height": 35
    },
    "id": "wXBA-gkUYH_3",
    "outputId": "b2d4520e-be1a-4156-e2c6-40d04d447308"
   },
   "outputs": [
    {
     "data": {
      "text/plain": [
       "'Hello'"
      ]
     },
     "execution_count": 13,
     "metadata": {},
     "output_type": "execute_result"
    }
   ],
   "source": [
    "clean_string(\"{*%He;:llo}&*\")"
   ]
  },
  {
   "cell_type": "code",
   "execution_count": 15,
   "metadata": {
    "colab": {
     "base_uri": "https://localhost:8080/"
    },
    "id": "uU6bHGfJYMDa",
    "outputId": "e7dbbc2e-3536-433e-c5dc-1abd9ce5837c"
   },
   "outputs": [
    {
     "data": {
      "text/plain": [
       "['bccc', 'aabb']"
      ]
     },
     "execution_count": 15,
     "metadata": {},
     "output_type": "execute_result"
    }
   ],
   "source": [
    "re.findall('[abc]{4}', 'XYZ Abcccddddaaaabb') # length of string should be 4 and made up of a,b,c"
   ]
  },
  {
   "cell_type": "code",
   "execution_count": 16,
   "metadata": {
    "id": "_ZyJmyjgY-jw"
   },
   "outputs": [
    {
     "data": {
      "text/plain": [
       "[]"
      ]
     },
     "execution_count": 16,
     "metadata": {},
     "output_type": "execute_result"
    }
   ],
   "source": [
    "re.findall('[abc]{4}', 'abcdb')"
   ]
  },
  {
   "cell_type": "code",
   "execution_count": null,
   "metadata": {},
   "outputs": [],
   "source": []
  }
 ],
 "metadata": {
  "colab": {
   "provenance": []
  },
  "kernelspec": {
   "display_name": "Python 3 (ipykernel)",
   "language": "python",
   "name": "python3"
  },
  "language_info": {
   "codemirror_mode": {
    "name": "ipython",
    "version": 3
   },
   "file_extension": ".py",
   "mimetype": "text/x-python",
   "name": "python",
   "nbconvert_exporter": "python",
   "pygments_lexer": "ipython3",
   "version": "3.9.12"
  }
 },
 "nbformat": 4,
 "nbformat_minor": 1
}
